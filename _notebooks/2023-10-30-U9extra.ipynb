{
 "cells": [
  {
   "cell_type": "markdown",
   "metadata": {},
   "source": [
    "---\n",
    "toc: true\n",
    "comments: true\n",
    "layout: post\n",
    "title: U9 Inheritance Extra\n",
    "description: Lesson on Java class hierarchy.\n",
    "type: hacks\n",
    "courses: { csa: {week: 11} }\n",
    "---"
   ]
  },
  {
   "cell_type": "markdown",
   "metadata": {},
   "source": [
    "# Shapes calculator\n",
    "Use inheritance to store various shapes and do calculations on them depending on the type."
   ]
  },
  {
   "cell_type": "code",
   "execution_count": 2,
   "metadata": {
    "vscode": {
     "languageId": "java"
    }
   },
   "outputs": [
    {
     "name": "stdout",
     "output_type": "stream",
     "text": [
      "Circle Area: 78.53981633974483\n",
      "Circle Perimeter: 31.41592653589793\n",
      "Rectangle Area: 20.0\n",
      "Rectangle Perimeter: 18.0\n"
     ]
    }
   ],
   "source": [
    "abstract class Shape {\n",
    "    abstract double getArea();\n",
    "    abstract double getPerimeter();\n",
    "}\n",
    "\n",
    "class Circle extends Shape {\n",
    "    double radius;\n",
    "    Circle(double radius) {\n",
    "        this.radius = radius;\n",
    "    }\n",
    "    double getArea() {\n",
    "        return Math.PI * Math.pow(radius, 2);\n",
    "    }\n",
    "    double getPerimeter() {\n",
    "        return 2 * Math.PI * radius;\n",
    "    }\n",
    "}\n",
    "\n",
    "class Rectangle extends Shape {\n",
    "    double length, width;\n",
    "    Rectangle(double length, double width) {\n",
    "        this.length = length;\n",
    "        this.width = width;\n",
    "    }\n",
    "    double getArea() {\n",
    "        return length * width;\n",
    "    }\n",
    "    double getPerimeter() {\n",
    "        return 2 * (length + width);\n",
    "    }\n",
    "}\n",
    "\n",
    "public class Main {\n",
    "    public static void main(String[] args) {\n",
    "        Circle circle = new Circle(5);\n",
    "        System.out.println(\"Circle Area: \" + circle.getArea());\n",
    "        System.out.println(\"Circle Perimeter: \" + circle.getPerimeter());\n",
    "\n",
    "        Rectangle rectangle = new Rectangle(4, 5);\n",
    "        System.out.println(\"Rectangle Area: \" + rectangle.getArea());\n",
    "        System.out.println(\"Rectangle Perimeter: \" + rectangle.getPerimeter());\n",
    "    }\n",
    "}\n",
    "\n",
    "Main.main(null);\n"
   ]
  }
 ],
 "metadata": {
  "kernelspec": {
   "display_name": "Java",
   "language": "java",
   "name": "java"
  },
  "language_info": {
   "codemirror_mode": "java",
   "file_extension": ".jshell",
   "mimetype": "text/x-java-source",
   "name": "Java",
   "pygments_lexer": "java",
   "version": "20.0.2+9-78"
  }
 },
 "nbformat": 4,
 "nbformat_minor": 2
}
