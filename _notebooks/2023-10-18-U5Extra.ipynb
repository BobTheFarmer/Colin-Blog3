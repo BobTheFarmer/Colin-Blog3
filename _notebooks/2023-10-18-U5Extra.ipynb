{
 "cells": [
  {
   "cell_type": "markdown",
   "metadata": {},
   "source": [
    "---\n",
    "layout: post\n",
    "title: U5 Extra Hacks\n",
    "comments: true\n",
    "courses: { csa: {week: 9} }\n",
    "type: hacks\n",
    "---"
   ]
  },
  {
   "cell_type": "markdown",
   "metadata": {},
   "source": [
    "> I made a quiz about classes using a class. The facts are from chatgpt."
   ]
  },
  {
   "cell_type": "code",
   "execution_count": 1,
   "metadata": {},
   "outputs": [],
   "source": [
    "import java.util.ArrayList;\n",
    "import java.util.Scanner;\n",
    "\n",
    "public class JavaClass {\n",
    "    ArrayList<String> chatgptFacts = new ArrayList<String>();\n",
    "    ArrayList<Boolean> chatgptAnswers = new ArrayList<Boolean>();\n",
    "\n",
    "    public JavaClass() {\n",
    "        chatgptFacts.add(\"A class is a blueprint for creating objects.\");\n",
    "        chatgptAnswers.add(true);\n",
    "        chatgptFacts.add(\"An object is an instance of a class.\");\n",
    "        chatgptAnswers.add(true);\n",
    "        chatgptFacts.add(\"A constructor is a special method that is called when an object is created.\");\n",
    "        chatgptAnswers.add(true);\n",
    "        chatgptFacts.add(\"A method is a block of code that performs a specific task.\");\n",
    "        chatgptAnswers.add(true);\n",
    "        chatgptFacts.add(\"Inheritance is the process by which one class acquires the properties of another class.\");\n",
    "        chatgptAnswers.add(true);\n",
    "        chatgptFacts.add(\"Java is a procedural programming language.\");\n",
    "        chatgptAnswers.add(false);\n",
    "        chatgptFacts.add(\"Encapsulation in Java is a mechanism of wrapping the data and code together as a single unit.\");\n",
    "        chatgptAnswers.add(true);\n",
    "    }\n",
    "\n",
    "    public void quiz() {\n",
    "        Scanner scanner = new Scanner(System.in);\n",
    "        int score = 0;\n",
    "        \n",
    "        for (int i = 0; i < chatgptFacts.size(); i++) {\n",
    "            System.out.println(chatgptFacts.get(i));\n",
    "            System.out.print(\"(Type True or False)\");\n",
    "            String answer = scanner.nextLine();\n",
    "            \n",
    "            if (answer.equalsIgnoreCase(Boolean.toString(chatgptAnswers.get(i)))) {\n",
    "                score++;\n",
    "            }\n",
    "        }\n",
    "        \n",
    "        System.out.println(\"Your score is \" + score + \" out of \" + chatgptFacts.size());\n",
    "    }\n",
    "}\n"
   ]
  },
  {
   "cell_type": "code",
   "execution_count": 2,
   "metadata": {},
   "outputs": [
    {
     "name": "stdout",
     "output_type": "stream",
     "text": [
      "A class is a blueprint for creating objects.\n",
      "(Type True or False)An object is an instance of a class.\n",
      "(Type True or False)A constructor is a special method that is called when an object is created.\n",
      "(Type True or False)A method is a block of code that performs a specific task.\n",
      "(Type True or False)Inheritance is the process by which one class acquires the properties of another class.\n",
      "(Type True or False)Java is a procedural programming language.\n",
      "(Type True or False)Encapsulation in Java is a mechanism of wrapping the data and code together as a single unit.\n",
      "(Type True or False)Your score is 4 out of 7\n"
     ]
    }
   ],
   "source": [
    "JavaClass jc = new JavaClass();\n",
    "jc.quiz();"
   ]
  }
 ],
 "metadata": {
  "kernelspec": {
   "display_name": "Java",
   "language": "java",
   "name": "java"
  },
  "language_info": {
   "codemirror_mode": "java",
   "file_extension": ".jshell",
   "mimetype": "text/x-java-source",
   "name": "java",
   "pygments_lexer": "java",
   "version": "20.0.2+9-78"
  }
 },
 "nbformat": 4,
 "nbformat_minor": 2
}
