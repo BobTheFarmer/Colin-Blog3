{
 "cells": [
  {
   "cell_type": "markdown",
   "metadata": {},
   "source": [
    "---\n",
    "toc: true\n",
    "comments: true\n",
    "layout: notebook\n",
    "title: FRQ 1\n",
    "courses: { csa: {week: 22} }\n",
    "type: hacks\n",
    "authors: Colin Weis\n",
    "---"
   ]
  },
  {
   "cell_type": "markdown",
   "metadata": {},
   "source": [
    "## Question 1\n",
    "\n",
    "**Directions:** SHOW ALL YOUR WORK. REMEMBER THAT PROGRAM SEGMENTS ARE TO BE WRITTEN IN JAVA.\n",
    "\n",
    "**Notes:**\n",
    "- Assume that the classes listed in the Java Quick Reference have been imported where appropriate.\n",
    "- Unless otherwise noted in the question, assume that parameters in method calls are not null and that methods are called only when their preconditions are satisfied.\n",
    "- In writing solutions for each question, you may use any of the accessible methods that are listed in classes defined in that question. Writing significant amounts of code that can be replaced by a call to one of these methods will not receive full credit.\n",
    "\n",
    "This question involves reasoning about one-dimensional and two-dimensional arrays of integers. You will write three static methods, all of which are in a single enclosing class, named `DiverseArray` (not shown). The first method returns the sum of the values of a one-dimensional array; the second method returns an array that represents the sums of the rows of a two-dimensional array; and the third method analyzes row sums.\n",
    "\n",
    "### (a) Write a static method `arraySum` that calculates and returns the sum of the entries in a specified one-dimensional array.\n",
    "\n",
    "Complete method `arraySum` below.\n",
    "\n",
    "```\n",
    "public static int arraySum(int[] arr) {[^17^][17][^18^][18]\n",
    "    int sum = 0;\n",
    "    for (int num : arr) {\n",
    "        sum += num;\n",
    "    }\n",
    "    return sum;\n",
    "}\n",
    "```"
   ]
  },
  {
   "cell_type": "code",
   "execution_count": 1,
   "metadata": {
    "vscode": {
     "languageId": "java"
    }
   },
   "outputs": [
    {
     "name": "stdout",
     "output_type": "stream",
     "text": [
      "15\n"
     ]
    }
   ],
   "source": [
    "public class DiverseArray1 {\n",
    "    public static int arraySum(int[] arr) {\n",
    "        int sum = 0;\n",
    "        for (int num : arr) {\n",
    "            sum += num;\n",
    "        }\n",
    "        return sum;\n",
    "    }\n",
    "\n",
    "    public static void main(String[] args) {\n",
    "        int[] testArray = {1, 2, 3, 4, 5};\n",
    "        System.out.println(arraySum(testArray)); // It should print 15\n",
    "    }\n",
    "}\n",
    "\n",
    "DiverseArray1.main(new String[]{});"
   ]
  },
  {
   "cell_type": "markdown",
   "metadata": {},
   "source": [
    "### (b) Write a static method `rowSums` that calculates the sums of each of the rows in a given two-dimensional array and returns these sums in a one-dimensional array.\n",
    "\n",
    "Complete method `rowSums` below.\n",
    "\n",
    "```\n",
    "public static int[] rowSums(int[][] arr2D) {\n",
    "    int[] sums = new int[arr2D.length];\n",
    "    for (int i = 0; i < arr2D.length; i++) {\n",
    "        sums[i] = arraySum(arr2D[i]);\n",
    "    }\n",
    "    return sums;\n",
    "}\n",
    "```"
   ]
  },
  {
   "cell_type": "code",
   "execution_count": 2,
   "metadata": {
    "vscode": {
     "languageId": "java"
    }
   },
   "outputs": [
    {
     "name": "stdout",
     "output_type": "stream",
     "text": [
      "6\n",
      "15\n",
      "24\n"
     ]
    }
   ],
   "source": []
  },
  {
   "cell_type": "markdown",
   "metadata": {},
   "source": [
    "### (c) Write a static method `isDiverse` that determines whether or not a given two-dimensional array is diverse.\n",
    "\n",
    "Complete method `isDiverse` below.\n",
    "\n",
    "```\n",
    "public static boolean isDiverse(int[][] arr2D) {\n",
    "    int[] rowSums = rowSums(arr2D);\n",
    "    for (int i = 0; i < rowSums.length - 1; i++) {\n",
    "        for (int j = i + 1; j < rowSums.length; j++) {\n",
    "            if (rowSums[i] == rowSums[j]) {\n",
    "                return false;\n",
    "            }\n",
    "        }\n",
    "    }\n",
    "    return true;\n",
    "}\n",
    "```"
   ]
  },
  {
   "cell_type": "code",
   "execution_count": 3,
   "metadata": {
    "vscode": {
     "languageId": "java"
    }
   },
   "outputs": [
    {
     "name": "stdout",
     "output_type": "stream",
     "text": [
      "true\n"
     ]
    }
   ],
   "source": []
  }
 ],
 "metadata": {
  "kernelspec": {
   "display_name": "Java",
   "language": "java",
   "name": "java"
  },
  "language_info": {
   "codemirror_mode": "java",
   "file_extension": ".jshell",
   "mimetype": "text/x-java-source",
   "name": "Java",
   "pygments_lexer": "java",
   "version": "20.0.2+9-78"
  }
 },
 "nbformat": 4,
 "nbformat_minor": 2
}
