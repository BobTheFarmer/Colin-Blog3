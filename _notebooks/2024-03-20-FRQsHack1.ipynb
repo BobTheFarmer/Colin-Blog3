{
 "cells": [
  {
   "cell_type": "markdown",
   "metadata": {},
   "source": [
    "---\n",
    "layout: post\n",
    "title: FRQ 2+3\n",
    "toc: true\n",
    "comments: true\n",
    "courses: { csa: {week: 27} }\n",
    "type: hacks\n",
    "---"
   ]
  },
  {
   "cell_type": "markdown",
   "metadata": {},
   "source": [
    "## Question 2\n",
    "\n",
    "a: Iterating over a 2D array in Java is a process to iterating and most likely perfume some kind of action or check on each value. To do this you need nested arrays. An example of a 2D Array is a chess board where the pieces positions are stored in 2 dimensions.dq\n",
    "\n",
    "b: "
   ]
  },
  {
   "cell_type": "code",
   "execution_count": 14,
   "metadata": {
    "vscode": {
     "languageId": "java"
    }
   },
   "outputs": [
    {
     "name": "stdout",
     "output_type": "stream",
     "text": [
      "Total: 401234\n"
     ]
    }
   ],
   "source": [
    "public class GameScoreCalculator {\n",
    "    public static int calculateTotalScore(int[][] scores) {\n",
    "        int totalScore = 0; \n",
    "\n",
    "        for (int i = 0; i < scores.length; i++) {\n",
    "            for (int j = 0; j < scores[i].length; j++) {\n",
    "                totalScore += scores[i][j];\n",
    "            }\n",
    "        }\n",
    "        return totalScore;\n",
    "    }\n",
    "    public static void main(String[] args) { \n",
    "        int[][] scores = {\n",
    "            {1, 2, 1040},\n",
    "            {20, 104, 12},\n",
    "            {400015, 27, 13}\n",
    "        };\n",
    "        int totalScore = calculateTotalScore(scores);\n",
    "        System.out.println(\"Total: \" + totalScore);\n",
    "    }\n",
    "}\n",
    "GameScoreCalculator.main(null);"
   ]
  },
  {
   "cell_type": "markdown",
   "metadata": {},
   "source": [
    "## Question 3\n",
    "\n",
    "a: An array is a way to store a group of objects, and their size cannot change. It is useful to hold a group of numbers, strings, or your own objects you need to have multiple of.\n",
    "\n",
    "b:"
   ]
  },
  {
   "cell_type": "code",
   "execution_count": 13,
   "metadata": {
    "vscode": {
     "languageId": "java"
    }
   },
   "outputs": [
    {
     "name": "stdout",
     "output_type": "stream",
     "text": [
      "Average Grade: 69.8\n"
     ]
    }
   ],
   "source": [
    "public class GradeCalc {\n",
    "    public static double calculateAverageGrade(int[] grades) {\n",
    "        int sum = 0; \n",
    "        int count = grades.length;\n",
    "        \n",
    "        for (int i = 0; i < grades.length; i++) { \n",
    "            sum += grades[i];\n",
    "        }\n",
    "        double average = (double) sum / count; \n",
    "\n",
    "        return average; \n",
    "    }\n",
    "\n",
    "    public static void main(String[] args) {\n",
    "        int[] studentGrades = {4, 100, 82, 71, 92};\n",
    "        \n",
    "        double averageGrade = calculateAverageGrade(studentGrades);\n",
    "        \n",
    "        System.out.println(\"Average Grade: \" + averageGrade);\n",
    "    }\n",
    "}\n",
    "GradeCalc.main(null);"
   ]
  }
 ],
 "metadata": {
  "kernelspec": {
   "display_name": "Java",
   "language": "java",
   "name": "java"
  },
  "language_info": {
   "codemirror_mode": "java",
   "file_extension": ".jshell",
   "mimetype": "text/x-java-source",
   "name": "Java",
   "pygments_lexer": "java",
   "version": "20.0.2+9-78"
  }
 },
 "nbformat": 4,
 "nbformat_minor": 2
}
