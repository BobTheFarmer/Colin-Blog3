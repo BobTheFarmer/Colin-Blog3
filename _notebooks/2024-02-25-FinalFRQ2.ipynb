{
 "cells": [
  {
   "cell_type": "markdown",
   "metadata": {},
   "source": [
    "---\n",
    "toc: true\n",
    "comments: true\n",
    "layout: notebook\n",
    "title: FRQ 2\n",
    "courses: { csa: {week: 22} }\n",
    "type: hacks\n",
    "authors: Colin Weis\n",
    "---"
   ]
  },
  {
   "cell_type": "markdown",
   "metadata": {},
   "source": [
    "## Question 2\n",
    "\n",
    "- Assume that the classes listed in the Java Quick Reference have been imported where appropriate.\n",
    "\n",
    "- Unless otherwise noted in the question, assume that parameters in method calls are not null and that methods are called only when their preconditions are satisfied.\n",
    "\n",
    "- In writing solutions for each question, you may use any of the accessible methods that are listed in classes defined in that question. Writing significant amounts of code that can be replaced by a call to one of these methods will not receive full credit.\n",
    "\n",
    "Consider a guessing game in which a player tries to guess a hidden word. The hidden word contains only capital letters and has a length known to the player. A guess contains only capital letters and has the same length as the hidden word.\n",
    "\n",
    "After a guess is made, the player is given a hint that is based on a comparison between the hidden word and the guess. Each position in the hint contains a character that corresponds to the letter in the same position in the guess. The following rules determine the characters that appear in the hint.\n",
    "\n",
    "| If the letter in the guess is... | the corresponding character in the hint is |\n",
    "|----------------------------------|------------------------------------------|\n",
    "| also in the same position in the hidden word, |  the matching letter |\n",
    "| also in the hidden word, but in a different position, |  '+' |\n",
    "| not in the hidden word,  |  '*' |\n",
    "\n",
    "The HiddenWord class will be used to represent the hidden word in the game. The hidden word is passed to the constructor. The class contains a method, getHint, that takes a guess and produces a hint.\n",
    "\n",
    "For example, suppose the variable puzzle is declared as follows.\n",
    "\n",
    "\n",
    "\n",
    "HiddenWord puzzle = new HiddenWord(\"HARPS\");\n",
    "\n",
    "\n",
    "The following table shows several guesses and the hints that would be produced.\n",
    "\n",
    "| Call to getHint   | String returned |\n",
    "|-------------------|-----------------|\n",
    "| puzzle.getHint(\"AAAAA\") \t| \"+****\"         |\n",
    "| puzzle.getHint(\"HELLO\") \t| \"*+***\"         |\n",
    "| puzzle.getHint(\"HEART\") \t| \"H****\"         |\n",
    "| puzzle.getHint(\"HARMS\") \t| \"HAR*S\"         |\n",
    "| puzzle.getHint(\"HARPS\") \t|\"HARPS\"          |\n",
    "\n",
    "Write the complete HiddenWord class, including any necessary instance variables, its constructor, and the method, getHint, described above. You may assume that the length of the guess is the same as the length of the hidden word."
   ]
  },
  {
   "cell_type": "code",
   "execution_count": 1,
   "metadata": {
    "vscode": {
     "languageId": "java"
    }
   },
   "outputs": [
    {
     "name": "stdout",
     "output_type": "stream",
     "text": [
      "Guess: AAAAA, Hint: +A+++\n",
      "Guess: HELLO, Hint: H****\n",
      "Guess: HEART, Hint: H*++*\n",
      "Guess: HARMS, Hint: HAR*S\n",
      "Guess: HARPS, Hint: HARPS\n"
     ]
    }
   ],
   "source": [
    "public class HiddenWord {\n",
    "    private String hiddenWord;\n",
    "\n",
    "    public HiddenWord(String hiddenWord) {\n",
    "        this.hiddenWord = hiddenWord;\n",
    "    }\n",
    "\n",
    "    public String getHint(String guess) {\n",
    "        StringBuilder hint = new StringBuilder();\n",
    "\n",
    "        for (int i = 0; i < guess.length(); i++) {\n",
    "            char guessChar = guess.charAt(i);\n",
    "            char hiddenChar = hiddenWord.charAt(i);\n",
    "\n",
    "            if (guessChar == hiddenChar) {\n",
    "                hint.append(guessChar);\n",
    "            } else if (hiddenWord.indexOf(guessChar) != -1) {\n",
    "                hint.append('+');\n",
    "            } else {\n",
    "                hint.append('*');\n",
    "            }\n",
    "        }\n",
    "\n",
    "        return hint.toString();\n",
    "    }\n",
    "\n",
    "    public static void main(String[] args) {\n",
    "        HiddenWord puzzle = new HiddenWord(\"HARPS\");\n",
    "\n",
    "        System.out.println(\"Guess: AAAAA, Hint: \" + puzzle.getHint(\"AAAAA\"));\n",
    "        System.out.println(\"Guess: HELLO, Hint: \" + puzzle.getHint(\"HELLO\"));\n",
    "        System.out.println(\"Guess: HEART, Hint: \" + puzzle.getHint(\"HEART\"));\n",
    "        System.out.println(\"Guess: HARMS, Hint: \" + puzzle.getHint(\"HARMS\"));\n",
    "        System.out.println(\"Guess: HARPS, Hint: \" + puzzle.getHint(\"HARPS\"));\n",
    "    }\n",
    "}\n",
    "\n",
    "HiddenWord.main(new String[0]);\n"
   ]
  }
 ],
 "metadata": {
  "kernelspec": {
   "display_name": "Java",
   "language": "java",
   "name": "java"
  },
  "language_info": {
   "codemirror_mode": "java",
   "file_extension": ".jshell",
   "mimetype": "text/x-java-source",
   "name": "Java",
   "pygments_lexer": "java",
   "version": "20.0.2+9-78"
  }
 },
 "nbformat": 4,
 "nbformat_minor": 2
}
