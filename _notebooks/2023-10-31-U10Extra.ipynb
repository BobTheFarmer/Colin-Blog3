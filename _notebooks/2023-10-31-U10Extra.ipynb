{
 "cells": [
  {
   "cell_type": "markdown",
   "metadata": {},
   "source": [
    "---\n",
    "toc: true\n",
    "comments: true\n",
    "layout: post\n",
    "title: U10 Extra Hacks\n",
    "description: Lesson on Java recursion.\n",
    "type: hacks\n",
    "courses: { csa: {week: 11} }\n",
    "---"
   ]
  },
  {
   "cell_type": "markdown",
   "metadata": {},
   "source": [
    "# Maze Finder\n",
    "Find the way through a maze with recursion."
   ]
  },
  {
   "cell_type": "code",
   "execution_count": 7,
   "metadata": {
    "vscode": {
     "languageId": "java"
    }
   },
   "outputs": [
    {
     "name": "stdout",
     "output_type": "stream",
     "text": [
      "No path found.\n",
      "Path found!\n"
     ]
    }
   ],
   "source": [
    "public class MazeSolver {\n",
    "    private static final int PATH = 1;\n",
    "    private static final int WALL = 0;\n",
    "    private static final int VISITED = 2;\n",
    "\n",
    "    public static boolean solveMaze(int[][] maze, int x, int y) {\n",
    "        if (x < 0 || y < 0 || x >= maze.length || y >= maze[0].length) {\n",
    "            return false;\n",
    "        }\n",
    "\n",
    "        if (maze[x][y] == WALL || maze[x][y] == VISITED) {\n",
    "            return false;\n",
    "        }\n",
    "\n",
    "        if (x == maze.length - 1 && y == maze[0].length - 1) {\n",
    "            return true;\n",
    "        }\n",
    "\n",
    "        maze[x][y] = VISITED;\n",
    "\n",
    "        if (solveMaze(maze, x - 1, y) || solveMaze(maze, x + 1, y) || solveMaze(maze, x, y - 1) || solveMaze(maze, x, y + 1)) {\n",
    "            return true;\n",
    "        }\n",
    "\n",
    "        return false;\n",
    "    }\n",
    "\n",
    "    public static void main(String[] args) {\n",
    "        int[][] maze = {\n",
    "            {PATH, WALL, PATH, PATH},\n",
    "            {PATH, PATH, PATH, WALL},\n",
    "            {WALL, WALL, WALL, PATH},\n",
    "            {PATH, PATH, PATH, PATH}\n",
    "        };\n",
    "\n",
    "        if (solveMaze(maze, 0, 0)) {\n",
    "            System.out.println(\"Path found!\");\n",
    "        } else {\n",
    "            System.out.println(\"No path found.\");\n",
    "        }\n",
    "\n",
    "        int[][] maze2 = {\n",
    "            {PATH, WALL, PATH, PATH},\n",
    "            {PATH, PATH, PATH, PATH},\n",
    "            {WALL, WALL, WALL, PATH},\n",
    "            {PATH, PATH, PATH, PATH}\n",
    "        };\n",
    "\n",
    "        if (solveMaze(maze2, 0, 0)) {\n",
    "            System.out.println(\"Path found!\");\n",
    "        } else {\n",
    "            System.out.println(\"No path found.\");\n",
    "        }\n",
    "    }\n",
    "}\n",
    "\n",
    "MazeSolver.main(null);\n"
   ]
  }
 ],
 "metadata": {
  "kernelspec": {
   "display_name": "Java",
   "language": "java",
   "name": "java"
  },
  "language_info": {
   "codemirror_mode": "java",
   "file_extension": ".jshell",
   "mimetype": "text/x-java-source",
   "name": "Java",
   "pygments_lexer": "java",
   "version": "20.0.2+9-78"
  }
 },
 "nbformat": 4,
 "nbformat_minor": 2
}
