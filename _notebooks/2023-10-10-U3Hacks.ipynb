{
 "cells": [
  {
   "cell_type": "markdown",
   "metadata": {},
   "source": [
    "1. Parenthesis\n",
    "2. Exponents\n",
    "3. Mutliplication/Divsion\n",
    "4. Addition/Subtraction\n",
    "5. NOT\n",
    "6. AND\n",
    "7. OR"
   ]
  },
  {
   "cell_type": "markdown",
   "metadata": {},
   "source": [
    "### Weird questions\n",
    "1. !(true)&&(false) = ? what in boolean values?\n",
    "- !(false)\n",
    "- true\n",
    "2. not ((((true and not (false)) ^ false) ^ true) && false) (remember PEMDASNAO!)\n",
    "- not ((((true and true) ^ false) ^ true) && false)\n",
    "- not (((true ^ false) ^ true) && false)\n",
    "- \n",
    "3. Prove the following: !A * !(B + !C) = !A * (!B * !C)\n",
    "4. 420 && 66 (Hint, convert to binary, then perform the operation)\n",
    "   1. If you got this one, try 89 OR 42"
   ]
  }
 ],
 "metadata": {
  "language_info": {
   "name": "python"
  },
  "orig_nbformat": 4
 },
 "nbformat": 4,
 "nbformat_minor": 2
}
