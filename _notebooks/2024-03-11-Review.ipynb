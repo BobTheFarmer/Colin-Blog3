{
 "cells": [
  {
   "cell_type": "markdown",
   "metadata": {},
   "source": [
    "---\n",
    "layout: post\n",
    "title: Seed Review \n",
    "toc: true\n",
    "comments: true\n",
    "courses: { csa: {week: 25} }\n",
    "type: hacks\n",
    "---"
   ]
  },
  {
   "cell_type": "markdown",
   "metadata": {},
   "source": [
    "# Exemplar in team work\n",
    "\n",
    "- I feel that I have worked hard to work with my team and be an exemplar student to my peers and group\n",
    "    - For example, I worked with Soham to integrate the grade and assignment features\n",
    "    - I also assisted Aniket with debugging\n",
    "    - \"Colin didn't disappoint\" - Soham Kamat\n",
    "- I also earned a 94% last trimester\n",
    "\n",
    "## Key commits\n",
    "\n",
    "[Assignment API](https://github.com/Men-In-Brown/tangerine-backend/pull/1)\n",
    "[Submit functionality](https://github.com/Men-In-Brown/tangerine-backend/pull/2)\n",
    "[Issues feature](https://github.com/Men-In-Brown/tangerine-backend/pull/3)\n",
    "\n",
    "## GitHub analytics\n",
    "\n",
    "[Analytics](https://github.com/BobTheFarmer)\n",
    "\n",
    "## AP Prep\n",
    "\n",
    "[First FRQ](https://github.com/BobTheFarmer/Colin-Blog3/issues/4)\n",
    "[2015 practice](https://github.com/BobTheFarmer/Colin-Blog3/issues/10)\n",
    "[Practice FRQs](https://github.com/BobTheFarmer/Colin-Blog3/issues/20)"
   ]
  }
 ],
 "metadata": {
  "language_info": {
   "name": "python"
  }
 },
 "nbformat": 4,
 "nbformat_minor": 2
}
