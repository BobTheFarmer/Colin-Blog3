{
 "cells": [
  {
   "cell_type": "markdown",
   "metadata": {},
   "source": [
    "---\n",
    "title: FRQs\n",
    "courses: {  csa: {week: 4} }\n",
    "categories: [C3.0, C3.1, C4.1]\n",
    "type: tangibles\n",
    "---"
   ]
  },
  {
   "cell_type": "markdown",
   "metadata": {},
   "source": [
    "# Girls in CS\n",
    "- Incoruage young women to get involved in Computer Science\n",
    "- Most recently Create digital cybersecurity lessons with PUSD\n",
    "\n",
    "# Introductions\n",
    "- Colon Seto\n",
    "- Class of 2020\n",
    "- Going into 3rd year at UCSD, Mecahnical Engineeirng\n",
    "- CSP paved the way for MatLab and Agile methodology\n",
    "\n",
    "- Studying computer science\n",
    "- Helped prepare for major\n",
    "\n",
    "- Mable\n",
    "- Congative Science at UCSD\n",
    "- Switched into a CS ajacent major\n",
    "- CS helped in both CS and congative science\n",
    "\n",
    "- Jason\n",
    "- CS and mechanics major at UCI\n",
    "- Had to use skills from CS at DNHS to help in major\n",
    "- Well-prepared for intro or even harder classes\n",
    "\n",
    "# College Applications\n",
    "\n",
    "## Selecting Colleges\n",
    "\n",
    "- Is it a lottery like at UCSD\n",
    "- Transferring from community college is an option\n",
    "- Lots of applications increases your chances as many are random\n",
    "- UCs allow you to save money vs private schools\n",
    "- Swithcing majors is an option but may be hard at some schools like UCSD\n",
    "- Niche majors are good and less competitive, like data science or machine learning\n",
    "- Apply where professors you like are\n",
    "- Most schools are similar in ciriculum\n",
    "\n",
    "## Important activites for applications\n",
    "\n",
    "- Work experience like at code ninjas\n",
    "- Project based learning\n",
    "- Leadership an creating impact\n",
    "- In interviews you can get more specific\n",
    "\n",
    "# Internships\n",
    "\n",
    "- Spend time making projects\n",
    "- Use projects to land internships or jobs\n",
    "- If you want to go into coding it's very important to build projects to showcase\n",
    "- It's one things to know how to use tools but it is better to have somthing tanjible\n",
    "- Keep repositroies orgnized to use later\n",
    "- Find a company you want to work at and redesign/improve their stuff. You can also just do a mockup\n",
    "- Follow the path of least resistance, work on somthing you enjoy\n",
    "- Leet-code pratice\n",
    "- Leet-code is one of the best ways to get a job\n",
    "\n",
    "# Personal projects\n",
    "\n",
    "- Be exposed to linux and powershell\n",
    "- Vercl and selkit(similar to react) are very powerful tools\n",
    "- Have a personal website and it can be used as a resume\n",
    "- Use other tools for styling, not just css\n",
    "- Your tools give you a big advantage\n",
    "\n",
    "# Questions\n",
    "\n",
    "\n"
   ]
  },
  {
   "cell_type": "code",
   "execution_count": null,
   "metadata": {
    "vscode": {
     "languageId": "plaintext"
    }
   },
   "outputs": [],
   "source": []
  }
 ],
 "metadata": {
  "language_info": {
   "name": "python"
  },
  "orig_nbformat": 4
 },
 "nbformat": 4,
 "nbformat_minor": 2
}
