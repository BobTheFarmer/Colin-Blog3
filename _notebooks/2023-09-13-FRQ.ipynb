{
 "cells": [
  {
   "cell_type": "markdown",
   "metadata": {},
   "source": [
    "---\n",
    "title: FRQs\n",
    "courses: {  csa: {week: 4} }\n",
    "categories: [C3.0, C3.1, C4.1]\n",
    "type: tangibles\n",
    "---"
   ]
  },
  {
   "cell_type": "markdown",
   "metadata": {},
   "source": [
    "(a) Write the WordMatch method scoreGuess. To determine the score to be returned,\n",
    "scoreGuess finds the number of times that guess occurs as a substring of secret and then multiplies that number by the square of the length of guess. Occurrences of guess may overlap within secret.\n",
    "\n",
    "Assume that the length of guess is less than or equal to the length of secret and that guess is not an empty string.\n",
    "The following examples show declarations of a WordMatch object. The tables show the outcomes of some possible calls to the scoreGuess method.\n",
    "\n",
    "Complete a ScoreGuess Method:"
   ]
  },
  {
   "cell_type": "code",
   "execution_count": 20,
   "metadata": {
    "vscode": {
     "languageId": "java"
    }
   },
   "outputs": [],
   "source": [
    "public class WordMatch {\n",
    "    private String secret;\n",
    "\n",
    "    public WordMatch(String word) {\n",
    "        secret = word;\n",
    "    }\n",
    "    public int scoreGuess(String guess) {\n",
    "        int guessLength = guess.length(); //Will be used to calculate score later\n",
    "\n",
    "        //Count occurrences of substring\n",
    "        int count = 0;\n",
    "        for (int i = 0; i < secret.length() - guessLength + 1; i++) {\n",
    "            if (secret.substring(i, i + guessLength).equals(guess)) {\n",
    "                count++;\n",
    "            }\n",
    "        }\n",
    "\n",
    "        return count * guessLength * guessLength; //Calculate and return score\n",
    "    }\n",
    "}\n"
   ]
  },
  {
   "cell_type": "code",
   "execution_count": 21,
   "metadata": {
    "vscode": {
     "languageId": "java"
    }
   },
   "outputs": [
    {
     "name": "stdout",
     "output_type": "stream",
     "text": [
      "4\n"
     ]
    }
   ],
   "source": [
    "WordMatch wordMatch = new WordMatch(\"mississippi\");\n",
    "System.out.println(wordMatch.scoreGuess(\"i\"));"
   ]
  }
 ],
 "metadata": {
  "kernelspec": {
   "display_name": "Java",
   "language": "java",
   "name": "java"
  },
  "language_info": {
   "codemirror_mode": "java",
   "file_extension": ".jshell",
   "mimetype": "text/x-java-source",
   "name": "Java",
   "pygments_lexer": "java",
   "version": "20.0.2+9-78"
  },
  "orig_nbformat": 4
 },
 "nbformat": 4,
 "nbformat_minor": 2
}
