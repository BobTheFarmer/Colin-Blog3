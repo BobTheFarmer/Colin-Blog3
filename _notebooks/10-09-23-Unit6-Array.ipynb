{
 "cells": [
  {
   "cell_type": "markdown",
   "metadata": {},
   "source": [
    "---\n",
    "toc: true\n",
    "comments: true\n",
    "layout: post\n",
    "title: Unit 6 Arrays - Teacher notebook\n",
    "description:  Lesson on the College Board Unit 6 Arrays. This is the teacher notebook.\n",
    "courses: { csa: {week: 7} }\n",
    "type: hacks\n",
    "---"
   ]
  },
  {
   "cell_type": "markdown",
   "metadata": {},
   "source": [
    "## Intro into Arrays\n",
    "\n",
    "- An **array** is a data structure used to implement a collection (list) of primitive or object reference data.\n",
    "\n",
    "- An **element** is a single value in the **array**\n",
    "\n",
    "- The __**index**__ of an **element** is the position of the element in the **array**\n",
    "\n",
    "    - In java, the **first element** of an array is at **index 0**.\n",
    "\n",
    "- The **length** of an **array** is the number of elements in the array.\n",
    "\n",
    "    - **`length`** is a `public final` data member of an array\n",
    "\n",
    "        - Since `length` is `public`, we can access it in **any class**!\n",
    "\n",
    "        - Since `length` is `final` we cannot change an array's `length` after it has been created\n",
    "    - In Java, the **last element** of an array named `list` is at **index** `list.length -1`"
   ]
  },
  {
   "cell_type": "markdown",
   "metadata": {},
   "source": [
    "## A look into list Memory\n",
    "`int [] listOne = new int[5];`\n",
    "\n",
    "This will allocate a space in memory for 5 integers.\n",
    "\n",
    "```\n",
    "ARRAY: [0, 0, 0, 0, 0]\n",
    "INDEX:  0  1  2  3  4\n",
    "```\n",
    "\n",
    "Using the keyword new uses the default values for the data type. The default values are as follows:\n",
    "\n",
    "| Data Type | Default Value |\n",
    "| --------- | ------------- |\n",
    "| byte      | (byte) 0      |\n",
    "| short     | (short) 0     |\n",
    "| int       | 0             |\n",
    "| double    | 0.0           |\n",
    "| boolean   | false         |\n",
    "| char      | '\\u0000'      |\n",
    "\n",
    "What do we do if we want to insert a value into the array?\n",
    "\n",
    "`listOne[0] = 5;`\n",
    "\n",
    "Gives us the following array:\n",
    "\n",
    "```\n",
    "ARRAY: [0, 0, 0, 0, 0]\n",
    "INDEX:  0  1  2  3  4\n",
    "```\n",
    "\n",
    "What if we want to initialize our own values? We can use an initializer list!\n",
    "\n",
    "`int [] listTwo = {1, 2, 3, 4, 5};`\n",
    "\n",
    "Gives us the following array:\n",
    "\n",
    "```\n",
    "ARRAY: [1, 2, 3, 4, 5]\n",
    "INDEX:  0  1  2  3  4\n",
    "```\n",
    "\n",
    "If we try to access an index outside of the range of existing indexes, we will get an error. But why? Remember the basis of all programming languages is memory. Because we are trying to access a location in memory that does not exist, java will throw an error (`ArrayIndexOutOfBoundsException`).\n",
    "\n",
    "How do we print the array? Directly printing the array will not work, it just prints the value of the array in memory. We need to iterate through the array and print each value individually!"
   ]
  },
  {
   "cell_type": "code",
   "execution_count": 1,
   "metadata": {},
   "outputs": [
    {
     "name": "stdout",
     "output_type": "stream",
     "text": [
      "Error at listOne[5] = 13\n",
      "ArrayIndexOutOfBoundsException: We can't access a memory index that doesn't exist!\n",
      "[I@382e606d\n",
      "0\n"
     ]
    }
   ],
   "source": [
    "/* lets take a look at the above */\n",
    "\n",
    "int [] listOne = new int[5]; // Our list looks like [0, 0, 0, 0, 0]\n",
    "\n",
    "listOne[2] = 33; // Our list looks like [0, 0, 33, 0, 0]\n",
    "listOne[3] = listOne[2] * 3; // Our list looks like [0, 0, 33, 99, 0]\n",
    "\n",
    "try {\n",
    "    listOne[5] = 13; // This will return an error\n",
    "} catch (Exception e) {\n",
    "    System.out.println(\"Error at listOne[5] = 13\");\n",
    "    System.out.println(\"ArrayIndexOutOfBoundsException: We can't access a memory index that doesn't exist!\");\n",
    "}\n",
    "\n",
    "\n",
    "System.out.println(listOne); // THIS DOES NOT PRINT THE LIST!! It prints the value in memory\n",
    "System.out.println(listOne[4]); // This will actually print the vaules in the array"
   ]
  },
  {
   "cell_type": "markdown",
   "metadata": {},
   "source": [
    "## Popcorn Hacks!\n",
    "\n",
    "Write code to print out every element of listOne the following"
   ]
  },
  {
   "cell_type": "code",
   "execution_count": 3,
   "metadata": {},
   "outputs": [
    {
     "name": "stdout",
     "output_type": "stream",
     "text": [
      "0\n",
      "0\n",
      "33\n",
      "99\n",
      "0\n"
     ]
    }
   ],
   "source": [
    "/* popcorn hacks go here */\n",
    "for(int i = 0; i < listOne.length; i++) {\n",
    "    System.out.println(listOne[i]);\n",
    "}"
   ]
  },
  {
   "cell_type": "markdown",
   "metadata": {},
   "source": [
    "## Reference elements\n",
    "\n",
    "Lists can be made up of elements other than the default data types! We can make lists of objects, or even lists of lists! Lets say I have a class `Student` and I want to make a list of all students in the class. I can do this by creating a list of `Student` objects.\n",
    "\n",
    "```\n",
    "Student [] classList;\n",
    "classList new Student [3];\n",
    "```\n",
    "\n",
    "Keep in mind, however, that the list won't be generated with any students in it. They are initialized to `null` by default, and We need to create the students and then add them to the list ourselves.\n",
    "\n",
    "```\n",
    "classList[0] = new Student(\"Bob\", 12, 3.5);\n",
    "classList[1] = new Student(\"John\", 11, 4.0);\n",
    "classList[2] = new Student(\"Steve\", 10, 3.75);\n",
    "```"
   ]
  },
  {
   "cell_type": "markdown",
   "metadata": {},
   "source": [
    "## Popcorn hacks!\n",
    "\n",
    "Use a class that you have already created and create a list of objects of that class. Then, iterate through the list and print out each object using:\n",
    " 1) a for loop\n",
    " 2) a while loop"
   ]
  },
  {
   "cell_type": "code",
   "execution_count": 9,
   "metadata": {},
   "outputs": [],
   "source": [
    "public class Person {\n",
    "    String name;\n",
    "\n",
    "    public Person(String name){\n",
    "        name = this.name;\n",
    "    }\n",
    "}"
   ]
  },
  {
   "cell_type": "code",
   "execution_count": 17,
   "metadata": {},
   "outputs": [
    {
     "name": "stdout",
     "output_type": "stream",
     "text": [
      "REPL.$JShell$21$Person@5bad073c\n",
      "REPL.$JShell$21$Person@70deddad\n",
      "REPL.$JShell$21$Person@6a3c1e84\n",
      "REPL.$JShell$21$Person@5bad073c\n",
      "REPL.$JShell$21$Person@70deddad\n",
      "REPL.$JShell$21$Person@6a3c1e84\n"
     ]
    }
   ],
   "source": [
    "Person p1 = new Person(\"Fred\");\n",
    "Person p2 = new Person(\"Bob\");\n",
    "Person p3 = new Person(\"Joseph\");\n",
    "\n",
    "Person[] people = {p1, p2, p3};\n",
    "\n",
    "for(int i = 0; i < people.length; i++) {\n",
    "    System.out.println(people[i]);\n",
    "}\n",
    "\n",
    "int i = 0;\n",
    "while(i < people.length) {\n",
    "    System.out.println(people[i]);\n",
    "    i++;\n",
    "}"
   ]
  },
  {
   "cell_type": "markdown",
   "metadata": {},
   "source": [
    "## Enhanced for loops\n",
    "\n",
    "The enhanced `for` loop is also called a for-each loop. Unlike a \"traditional\" indexed `for` loop with three parts separated by semicolons, there are only two parts to the enhanced `for` loop header and they are separated by a colon.\n",
    "\n",
    "The first half of an enhanced `for` loop signature is the type of name for the variable that is a copy of the value stored in the structure. Next a colon separates the variable section from the data structure being traversed with the loop.\n",
    "\n",
    "Inside the body of the loop you are able to access the value stored in the variable. A key point to remember is that you are unable to assign into the variable defined in the header (the signature)\n",
    "\n",
    "You also do not have access to the indices of the array or subscript notation when using the enhanced `for` loop.\n",
    "\n",
    "These loops have a structure similar to the one shown below:\n",
    "\n",
    "```js\n",
    "for (type declaration : structure )\n",
    "{\n",
    "    // statement one;\n",
    "    // statement two;\n",
    "    // ...\n",
    "}\n",
    "```\n",
    "\n",
    "## Popcorn Hacks!\n",
    "\n",
    "Create an array, then use a enhanced for loop to print out each element of the array."
   ]
  },
  {
   "cell_type": "code",
   "execution_count": 18,
   "metadata": {},
   "outputs": [
    {
     "name": "stdout",
     "output_type": "stream",
     "text": [
      "1\n",
      "2\n",
      "3\n",
      "4\n",
      "5\n"
     ]
    }
   ],
   "source": [
    "/* Popcorn hacks go here */\n",
    "int[] array = {1, 2, 3, 4, 5};\n",
    "\n",
    "for (int element : array) {\n",
    "    System.out.println(element);\n",
    "}"
   ]
  },
  {
   "cell_type": "markdown",
   "metadata": {},
   "source": [
    "## Min maxing\n",
    "\n",
    "It is a common task to determine what the largest or smallest value stored is inside an array. in order to do this, we need a method that can ake a parameter of an array of primitive values (`int` or `double`) and return the item that is at the appropriate extreme.\n",
    "\n",
    "Inside the method of a local variable is needed to store the current max of min value that will be compared against all the values in the array. you can assign the current value to be either the opposite extreme or the first item you would be looking at.\n",
    "\n",
    "You can use either a standard `for` loop or an enhanced `for` loop to determine the max or min. Assign the temporary variable a starting value based on what extreme you are searching for.\n",
    "\n",
    "Inside the `for` loop, compare the current value against the local variable, if the current value is better, assign it to the temporary variable. When the loop is over, the local variable will contain the approximate value and is still available and within scope and can be returned from the method.\n",
    "\n",
    "## Popcorn Hacks!\n",
    "Create two lists: one of ints and one of doubles. Use both a standard for loop and an enhanced for loop to find the max and min of each list."
   ]
  },
  {
   "cell_type": "code",
   "execution_count": 23,
   "metadata": {},
   "outputs": [
    {
     "name": "stdout",
     "output_type": "stream",
     "text": [
      "Int Max: 5\n",
      "Int Min: 1\n",
      "Double Max: 5.5\n",
      "Double Min: 1.1\n"
     ]
    }
   ],
   "source": [
    "/* Popcorn hacks go here! */\n",
    "\n",
    "int[] intArray = {1, 2, 3, 4, 5};\n",
    "double[] doubleArray = {1.1, 2.2, 3.3, 4.4, 5.5};\n",
    "\n",
    "\n",
    "int intMax = Integer.MIN_VALUE;\n",
    "int intMin = Integer.MAX_VALUE;\n",
    "for (int i = 0; i < intArray.length; i++) {\n",
    "    intMax = Math.max(intMax, intArray[i]);\n",
    "    intMin = Math.min(intMin, intArray[i]);\n",
    "}\n",
    "\n",
    "double doubleMax = Double.NEGATIVE_INFINITY;\n",
    "double doubleMin = Double.POSITIVE_INFINITY;\n",
    "for (double val : doubleArray) {\n",
    "    doubleMax = Math.max(doubleMax, val);\n",
    "    doubleMin = Math.min(doubleMin, val);\n",
    "}\n",
    "\n",
    "System.out.println(\"Int Max: \" + intMax);\n",
    "System.out.println(\"Int Min: \" + intMin);\n",
    "System.out.println(\"Double Max: \" + doubleMax);\n",
    "System.out.println(\"Double Min: \" + doubleMin);"
   ]
  },
  {
   "cell_type": "markdown",
   "metadata": {},
   "source": [
    "# Hacks"
   ]
  },
  {
   "cell_type": "code",
   "execution_count": 12,
   "metadata": {},
   "outputs": [
    {
     "name": "stdout",
     "output_type": "stream",
     "text": [
      "A: 19823\n",
      "B: 0\n",
      "C: 10.0\n"
     ]
    }
   ],
   "source": [
    "int[] numbers = {0, 10, 38, 19823, 0};\n",
    "\n",
    "//Get Max, min and median\n",
    "Arrays.sort(numbers);\n",
    "\n",
    "int a = numbers[numbers.length - 1];\n",
    "int b = numbers[0];\n",
    "double c;\n",
    "\n",
    "if (numbers.length % 2 == 0) {\n",
    "    c = ((double)numbers[numbers.length/2] + (double)numbers[numbers.length/2 - 1])/2;\n",
    "} else {\n",
    "    c = (double) numbers[numbers.length/2];\n",
    "}\n",
    "\n",
    "System.out.println(\"A: \" + a);\n",
    "System.out.println(\"B: \" + b);\n",
    "System.out.println(\"C: \" + c);\n",
    "\n",
    "// Do final math\n",
    "double total1 = a + b + c;\n",
    "double total2 =  a - b - c;\n",
    "double total3 =  (a + b) * c;\n",
    "\n",
    "System.out.println(\"Total 1: \" + total1);\n",
    "System.out.println(\"Total 2: \" + total2);\n",
    "System.out.println(\"Total 3: \" + total3);"
   ]
  },
  {
   "cell_type": "markdown",
   "metadata": {},
   "source": [
    "# Extra"
   ]
  },
  {
   "cell_type": "code",
   "execution_count": 17,
   "metadata": {},
   "outputs": [
    {
     "name": "stdout",
     "output_type": "stream",
     "text": [
      "1. Create student\n",
      "2. View students\n",
      "3. Exit\n",
      "Enter your choice: Enter student name: Enter student GPA: 1. Create student\n",
      "2. View students\n",
      "3. Exit\n",
      "Enter your choice: Name: Fred, GPA: 1.0\n",
      "1. Create student\n",
      "2. View students\n",
      "3. Exit\n",
      "Enter your choice: "
     ]
    }
   ],
   "source": [
    "import java.util.Scanner;\n",
    "\n",
    "class CsaStudent {\n",
    "    String name;\n",
    "    double gpa;\n",
    "\n",
    "    CsaStudent(String name, double gpa) {\n",
    "        this.name = name;\n",
    "        this.gpa = gpa;\n",
    "    }\n",
    "\n",
    "    @Override\n",
    "    public String toString() {\n",
    "        return \"Name: \" + name + \", GPA: \" + gpa;\n",
    "    }\n",
    "}\n",
    "\n",
    "private static final int MAX_STUDENTS = 30;\n",
    "private static CsaStudent[] students = new CsaStudent[MAX_STUDENTS];\n",
    "private static int studentCount = 0;\n",
    "\n",
    "Scanner scanner = new Scanner(System.in);\n",
    "while (true) {\n",
    "    System.out.println(\"1. Create student\");\n",
    "    System.out.println(\"2. View students\");\n",
    "    System.out.println(\"3. Exit\");\n",
    "    System.out.print(\"Enter your choice: \");\n",
    "    int choice = scanner.nextInt();\n",
    "    scanner.nextLine();\n",
    "\n",
    "    if (choice == 1) {\n",
    "        if (studentCount >= MAX_STUDENTS) {\n",
    "            System.out.println(\"Max students reached\");\n",
    "            continue;\n",
    "        }\n",
    "        System.out.print(\"Enter student name: \");\n",
    "        String name = scanner.nextLine();\n",
    "        System.out.print(\"Enter student GPA: \");\n",
    "        double gpa = scanner.nextDouble();\n",
    "        students[studentCount++] = new CsaStudent(name, gpa);\n",
    "    } else if (choice == 2) {\n",
    "        for (int i = 0; i < studentCount; i++) {\n",
    "            System.out.println(students[i]);\n",
    "        }\n",
    "    } else if (choice == 3) {\n",
    "        break;\n",
    "    } else {\n",
    "        System.out.println(\"Invalid choice\");\n",
    "    }\n",
    "}\n",
    "scanner.close();\n"
   ]
  }
 ],
 "metadata": {
  "kernelspec": {
   "display_name": "Java",
   "language": "java",
   "name": "java"
  },
  "language_info": {
   "codemirror_mode": "java",
   "file_extension": ".jshell",
   "mimetype": "text/x-java-source",
   "name": "java",
   "pygments_lexer": "java",
   "version": "20.0.2+9-78"
  },
  "orig_nbformat": 4
 },
 "nbformat": 4,
 "nbformat_minor": 2
}
