{
 "cells": [
  {
   "cell_type": "markdown",
   "metadata": {},
   "source": [
    "---\n",
    "toc: true\n",
    "comments: true\n",
    "layout: notebook\n",
    "title: CollegeBoard FRQ Final\n",
    "courses: { csa: {week: 22} }\n",
    "type: hacks\n",
    "authors: Colin Weis\n",
    "---"
   ]
  },
  {
   "cell_type": "markdown",
   "metadata": {},
   "source": []
  },
  {
   "cell_type": "code",
   "execution_count": 1,
   "metadata": {},
   "outputs": [
    {
     "name": "stdout",
     "output_type": "stream",
     "text": [
      "15\n"
     ]
    }
   ],
   "source": []
  },
  {
   "cell_type": "markdown",
   "metadata": {},
   "source": []
  },
  {
   "cell_type": "code",
   "execution_count": 2,
   "metadata": {},
   "outputs": [
    {
     "name": "stdout",
     "output_type": "stream",
     "text": [
      "6\n",
      "15\n",
      "24\n"
     ]
    }
   ],
   "source": []
  },
  {
   "cell_type": "markdown",
   "metadata": {},
   "source": []
  },
  {
   "cell_type": "code",
   "execution_count": 3,
   "metadata": {},
   "outputs": [
    {
     "name": "stdout",
     "output_type": "stream",
     "text": [
      "true\n"
     ]
    }
   ],
   "source": []
  },
  {
   "cell_type": "markdown",
   "metadata": {},
   "source": []
  },
  {
   "cell_type": "code",
   "execution_count": 4,
   "metadata": {},
   "outputs": [
    {
     "name": "stdout",
     "output_type": "stream",
     "text": [
      "Guess: AAAAA, Hint: +A+++\n",
      "Guess: HELLO, Hint: H****\n",
      "Guess: HEART, Hint: H*++*\n",
      "Guess: HARMS, Hint: HAR*S\n",
      "Guess: HARPS, Hint: HARPS\n"
     ]
    }
   ],
   "source": []
  },
  {
   "cell_type": "markdown",
   "metadata": {},
   "source": [
    "### Question 3\n",
    "\n",
    "\n",
    "A two-dimensional array of integers in which most elements are zero is called a sparse array. Because most elements have a value of zero, memory can be saved by storing only the non-zero values along with their row and column indexes. The following complete SparseArrayEntry class is used to represent non-zero elements in a sparse array. A SparseArrayEntry object cannot be modified after it has been constructed."
   ]
  },
  {
   "cell_type": "code",
   "execution_count": 5,
   "metadata": {},
   "outputs": [
    {
     "name": "stdout",
     "output_type": "stream",
     "text": [
      "Before removing column:\n",
      "Row: 0, Col: 1, Value: 1\n",
      "Row: 0, Col: 2, Value: 2\n",
      "Row: 0, Col: 3, Value: 3\n",
      "Row: 1, Col: 1, Value: 4\n",
      "Row: 1, Col: 2, Value: 5\n",
      "Row: 1, Col: 3, Value: 6\n",
      "Row: 2, Col: 1, Value: 7\n",
      "Row: 2, Col: 2, Value: 8\n",
      "Row: 2, Col: 3, Value: 9\n",
      "Row: 3, Col: 1, Value: 10\n",
      "Row: 3, Col: 2, Value: 11\n",
      "Row: 3, Col: 3, Value: 12\n",
      "Row: 4, Col: 1, Value: 13\n",
      "Row: 4, Col: 2, Value: 14\n",
      "Row: 4, Col: 3, Value: 15\n",
      "After removing column:\n",
      "Row: 0, Col: 1, Value: 2\n",
      "Row: 0, Col: 2, Value: 3\n",
      "Row: 1, Col: 1, Value: 5\n",
      "Row: 1, Col: 2, Value: 6\n",
      "Row: 2, Col: 1, Value: 8\n",
      "Row: 2, Col: 2, Value: 9\n",
      "Row: 3, Col: 1, Value: 11\n",
      "Row: 3, Col: 2, Value: 12\n",
      "Row: 4, Col: 1, Value: 14\n",
      "Row: 4, Col: 2, Value: 15\n"
     ]
    }
   ],
   "source": []
  },
  {
   "cell_type": "markdown",
   "metadata": {},
   "source": []
  },
  {
   "cell_type": "code",
   "execution_count": 6,
   "metadata": {},
   "outputs": [
    {
     "name": "stdout",
     "output_type": "stream",
     "text": [
      "Range from -3 to 2 contains -3: true\n",
      "Range from -3 to 2 contains 2: true\n",
      "Range from -3 to 2 contains 3: false\n",
      "MultipleGroups contains 4: true\n",
      "MultipleGroups contains 9: false\n",
      "MultipleGroups contains 11: true\n"
     ]
    }
   ],
   "source": []
  },
  {
   "cell_type": "markdown",
   "metadata": {},
   "source": []
  },
  {
   "cell_type": "markdown",
   "metadata": {},
   "source": []
  }
 ],
 "metadata": {
  "kernelspec": {
   "display_name": "Java",
   "language": "java",
   "name": "java"
  },
  "language_info": {
   "codemirror_mode": "java",
   "file_extension": ".jshell",
   "mimetype": "text/x-java-source",
   "name": "java",
   "pygments_lexer": "java",
   "version": "20.0.2+9-78"
  }
 },
 "nbformat": 4,
 "nbformat_minor": 2
}
