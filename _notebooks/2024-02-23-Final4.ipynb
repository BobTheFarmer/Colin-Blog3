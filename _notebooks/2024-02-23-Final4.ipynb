{
 "cells": [
  {
   "cell_type": "markdown",
   "metadata": {},
   "source": [
    "---\n",
    "toc: true\n",
    "comments: true\n",
    "layout: notebook\n",
    "title: CollegeBoard FRQ Final\n",
    "courses: { csa: {week: 22} }\n",
    "type: hacks\n",
    "authors: Colin Weis\n",
    "---"
   ]
  },
  {
   "cell_type": "markdown",
   "metadata": {},
   "source": []
  },
  {
   "cell_type": "code",
   "execution_count": 1,
   "metadata": {},
   "outputs": [
    {
     "name": "stdout",
     "output_type": "stream",
     "text": [
      "15\n"
     ]
    }
   ],
   "source": []
  },
  {
   "cell_type": "markdown",
   "metadata": {},
   "source": []
  },
  {
   "cell_type": "code",
   "execution_count": 2,
   "metadata": {},
   "outputs": [
    {
     "name": "stdout",
     "output_type": "stream",
     "text": [
      "6\n",
      "15\n",
      "24\n"
     ]
    }
   ],
   "source": []
  },
  {
   "cell_type": "markdown",
   "metadata": {},
   "source": [
    "### (c) Write a static method `isDiverse` that determines whether or not a given two-dimensional array is diverse.\n",
    "\n",
    "Complete method `isDiverse` below.\n",
    "\n",
    "```\n",
    "public static boolean isDiverse(int[][] arr2D) {[^19^][19][^18^][18]\n",
    "    int[] rowSums = rowSums(arr2D);\n",
    "    for (int i = 0; i < rowSums.length - 1; i++) {\n",
    "        for (int j = i + 1; j < rowSums.length; j++) {\n",
    "            if (rowSums[i] == rowSums[j]) {\n",
    "                return false;\n",
    "            }\n",
    "        }\n",
    "    }\n",
    "    return true;\n",
    "}\n",
    "```"
   ]
  },
  {
   "cell_type": "code",
   "execution_count": 3,
   "metadata": {},
   "outputs": [
    {
     "name": "stdout",
     "output_type": "stream",
     "text": [
      "true\n"
     ]
    }
   ],
   "source": [
    "public class DiverseArray {\n",
    "    public static int arraySum(int[] arr) {\n",
    "        int sum = 0;\n",
    "        for (int i : arr) {\n",
    "            sum += i;\n",
    "        }\n",
    "        return sum;\n",
    "    }\n",
    "\n",
    "    public static int[] rowSums(int[][] arr2D) {\n",
    "        int[] sums = new int[arr2D.length];\n",
    "        for (int i = 0; i < arr2D.length; i++) {\n",
    "            sums[i] = arraySum(arr2D[i]);\n",
    "        }\n",
    "        return sums;\n",
    "    }\n",
    "\n",
    "    public static boolean isDiverse(int[][] arr2D) {\n",
    "        int[] rowSums = rowSums(arr2D);\n",
    "        for (int i = 0; i < rowSums.length - 1; i++) {\n",
    "            for (int j = i + 1; j < rowSums.length; j++) {\n",
    "                if (rowSums[i] == rowSums[j]) {\n",
    "                    return false;\n",
    "                }\n",
    "            }\n",
    "        }\n",
    "        return true;\n",
    "    }\n",
    "\n",
    "    public static void main(String[] args) {\n",
    "        int[][] arr2D = {{1, 2, 3}, {4, 5, 6}, {7, 8, 9}};\n",
    "        System.out.println(isDiverse(arr2D));\n",
    "    }\n",
    "}\n",
    "\n",
    "DiverseArray.main(new String[]{});\n"
   ]
  },
  {
   "cell_type": "markdown",
   "metadata": {},
   "source": [
    "## Question 2\n",
    "\n",
    "- Assume that the classes listed in the Java Quick Reference have been imported where appropriate.\n",
    "\n",
    "- Unless otherwise noted in the question, assume that parameters in method calls are not null and that methods are called only when their preconditions are satisfied.\n",
    "\n",
    "- In writing solutions for each question, you may use any of the accessible methods that are listed in classes defined in that question. Writing significant amounts of code that can be replaced by a call to one of these methods will not receive full credit.\n",
    "\n",
    "Consider a guessing game in which a player tries to guess a hidden word. The hidden word contains only capital letters and has a length known to the player. A guess contains only capital letters and has the same length as the hidden word.\n",
    "\n",
    "After a guess is made, the player is given a hint that is based on a comparison between the hidden word and the guess. Each position in the hint contains a character that corresponds to the letter in the same position in the guess. The following rules determine the characters that appear in the hint.\n",
    "\n",
    "| If the letter in the guess is... | the corresponding character in the hint is |\n",
    "|----------------------------------|------------------------------------------|\n",
    "| also in the same position in the hidden word, |  the matching letter |\n",
    "| also in the hidden word, but in a different position, |  '+' |\n",
    "| not in the hidden word,  |  '*' |\n",
    "\n",
    "The HiddenWord class will be used to represent the hidden word in the game. The hidden word is passed to the constructor. The class contains a method, getHint, that takes a guess and produces a hint.\n",
    "\n",
    "For example, suppose the variable puzzle is declared as follows.\n",
    "\n",
    "\n",
    "\n",
    "HiddenWord puzzle = new HiddenWord(\"HARPS\");\n",
    "\n",
    "\n",
    "The following table shows several guesses and the hints that would be produced.\n",
    "\n",
    "| Call to getHint   | String returned |\n",
    "|-------------------|-----------------|\n",
    "| puzzle.getHint(\"AAAAA\") \t| \"+****\"         |\n",
    "| puzzle.getHint(\"HELLO\") \t| \"*+***\"         |\n",
    "| puzzle.getHint(\"HEART\") \t| \"H****\"         |\n",
    "| puzzle.getHint(\"HARMS\") \t| \"HAR*S\"         |\n",
    "| puzzle.getHint(\"HARPS\") \t|\"HARPS\"          |\n",
    "\n",
    "Write the complete HiddenWord class, including any necessary instance variables, its constructor, and the method, getHint, described above. You may assume that the length of the guess is the same as the length of the hidden word."
   ]
  },
  {
   "cell_type": "code",
   "execution_count": 4,
   "metadata": {},
   "outputs": [
    {
     "name": "stdout",
     "output_type": "stream",
     "text": [
      "Guess: AAAAA, Hint: +A+++\n",
      "Guess: HELLO, Hint: H****\n",
      "Guess: HEART, Hint: H*++*\n",
      "Guess: HARMS, Hint: HAR*S\n",
      "Guess: HARPS, Hint: HARPS\n"
     ]
    }
   ],
   "source": []
  },
  {
   "cell_type": "markdown",
   "metadata": {},
   "source": []
  },
  {
   "cell_type": "code",
   "execution_count": 5,
   "metadata": {},
   "outputs": [
    {
     "name": "stdout",
     "output_type": "stream",
     "text": [
      "Before removing column:\n",
      "Row: 0, Col: 1, Value: 1\n",
      "Row: 0, Col: 2, Value: 2\n",
      "Row: 0, Col: 3, Value: 3\n",
      "Row: 1, Col: 1, Value: 4\n",
      "Row: 1, Col: 2, Value: 5\n",
      "Row: 1, Col: 3, Value: 6\n",
      "Row: 2, Col: 1, Value: 7\n",
      "Row: 2, Col: 2, Value: 8\n",
      "Row: 2, Col: 3, Value: 9\n",
      "Row: 3, Col: 1, Value: 10\n",
      "Row: 3, Col: 2, Value: 11\n",
      "Row: 3, Col: 3, Value: 12\n",
      "Row: 4, Col: 1, Value: 13\n",
      "Row: 4, Col: 2, Value: 14\n",
      "Row: 4, Col: 3, Value: 15\n",
      "After removing column:\n",
      "Row: 0, Col: 1, Value: 2\n",
      "Row: 0, Col: 2, Value: 3\n",
      "Row: 1, Col: 1, Value: 5\n",
      "Row: 1, Col: 2, Value: 6\n",
      "Row: 2, Col: 1, Value: 8\n",
      "Row: 2, Col: 2, Value: 9\n",
      "Row: 3, Col: 1, Value: 11\n",
      "Row: 3, Col: 2, Value: 12\n",
      "Row: 4, Col: 1, Value: 14\n",
      "Row: 4, Col: 2, Value: 15\n"
     ]
    }
   ],
   "source": []
  },
  {
   "cell_type": "markdown",
   "metadata": {},
   "source": []
  },
  {
   "cell_type": "code",
   "execution_count": 6,
   "metadata": {},
   "outputs": [
    {
     "name": "stdout",
     "output_type": "stream",
     "text": [
      "Range from -3 to 2 contains -3: true\n",
      "Range from -3 to 2 contains 2: true\n",
      "Range from -3 to 2 contains 3: false\n",
      "MultipleGroups contains 4: true\n",
      "MultipleGroups contains 9: false\n",
      "MultipleGroups contains 11: true\n"
     ]
    }
   ],
   "source": []
  },
  {
   "cell_type": "markdown",
   "metadata": {},
   "source": []
  },
  {
   "cell_type": "markdown",
   "metadata": {},
   "source": []
  }
 ],
 "metadata": {
  "kernelspec": {
   "display_name": "Java",
   "language": "java",
   "name": "java"
  },
  "language_info": {
   "codemirror_mode": "java",
   "file_extension": ".jshell",
   "mimetype": "text/x-java-source",
   "name": "java",
   "pygments_lexer": "java",
   "version": "20.0.2+9-78"
  }
 },
 "nbformat": 4,
 "nbformat_minor": 2
}
