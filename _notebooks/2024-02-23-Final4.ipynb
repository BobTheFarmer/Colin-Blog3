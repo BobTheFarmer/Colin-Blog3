{
 "cells": [
  {
   "cell_type": "markdown",
   "metadata": {},
   "source": [
    "---\n",
    "toc: true\n",
    "comments: true\n",
    "layout: notebook\n",
    "title: CollegeBoard FRQ Final\n",
    "courses: { csa: {week: 22} }\n",
    "type: hacks\n",
    "authors: Colin Weis\n",
    "---"
   ]
  },
  {
   "cell_type": "markdown",
   "metadata": {},
   "source": [
    "## Question 1\n",
    "\n",
    "**Directions:** SHOW ALL YOUR WORK. REMEMBER THAT PROGRAM SEGMENTS ARE TO BE WRITTEN IN JAVA.\n",
    "\n",
    "**Notes:**\n",
    "- Assume that the classes listed in the Java Quick Reference have been imported where appropriate.\n",
    "- Unless otherwise noted in the question, assume that parameters in method calls are not null and that methods are called only when their preconditions are satisfied.\n",
    "- In writing solutions for each question, you may use any of the accessible methods that are listed in classes defined in that question. Writing significant amounts of code that can be replaced by a call to one of these methods will not receive full credit.\n",
    "\n",
    "This question involves reasoning about one-dimensional and two-dimensional arrays of integers. You will write three static methods, all of which are in a single enclosing class, named `DiverseArray` (not shown). The first method returns the sum of the values of a one-dimensional array; the second method returns an array that represents the sums of the rows of a two-dimensional array; and the third method analyzes row sums.\n",
    "\n",
    "### (a) Write a static method `arraySum` that calculates and returns the sum of the entries in a specified one-dimensional array.\n",
    "\n",
    "Complete method `arraySum` below.\n",
    "\n",
    "```\n",
    "public static int arraySum(int[] arr) {[^17^][17][^18^][18]\n",
    "    int sum = 0;\n",
    "    for (int num : arr) {\n",
    "        sum += num;\n",
    "    }\n",
    "    return sum;\n",
    "}\n",
    "```"
   ]
  },
  {
   "cell_type": "code",
   "execution_count": null,
   "metadata": {
    "vscode": {
     "languageId": "java"
    }
   },
   "outputs": [],
   "source": []
  },
  {
   "cell_type": "markdown",
   "metadata": {},
   "source": [
    "### (b) Write a static method `rowSums` that calculates the sums of each of the rows in a given two-dimensional array and returns these sums in a one-dimensional array.\n",
    "\n",
    "Complete method `rowSums` below.\n",
    "\n",
    "```\n",
    "public static int[] rowSums(int[][] arr2D) {[^18^][18]\n",
    "    int[] sums = new int[arr2D.length];\n",
    "    for (int i = 0; i < arr2D.length; i++) {\n",
    "        sums[i] = arraySum(arr2D[i]);\n",
    "    }\n",
    "    return sums;\n",
    "}\n",
    "```"
   ]
  },
  {
   "cell_type": "code",
   "execution_count": null,
   "metadata": {
    "vscode": {
     "languageId": "java"
    }
   },
   "outputs": [],
   "source": []
  },
  {
   "cell_type": "markdown",
   "metadata": {},
   "source": [
    "### (c) Write a static method `isDiverse` that determines whether or not a given two-dimensional array is diverse.\n",
    "\n",
    "Complete method `isDiverse` below.\n",
    "\n",
    "```\n",
    "public static boolean isDiverse(int[][] arr2D) {[^19^][19][^18^][18]\n",
    "    int[] rowSums = rowSums(arr2D);\n",
    "    for (int i = 0; i < rowSums.length - 1; i++) {\n",
    "        for (int j = i + 1; j < rowSums.length; j++) {\n",
    "            if (rowSums[i] == rowSums[j]) {\n",
    "                return false;\n",
    "            }\n",
    "        }\n",
    "    }\n",
    "    return true;\n",
    "}\n",
    "```"
   ]
  },
  {
   "cell_type": "code",
   "execution_count": null,
   "metadata": {
    "vscode": {
     "languageId": "java"
    }
   },
   "outputs": [],
   "source": []
  },
  {
   "cell_type": "markdown",
   "metadata": {},
   "source": [
    "## Question 2\n",
    "\n",
    "- Assume that the classes listed in the Java Quick Reference have been imported where appropriate.\n",
    "\n",
    "- Unless otherwise noted in the question, assume that parameters in method calls are not null and that methods are called only when their preconditions are satisfied.\n",
    "\n",
    "- In writing solutions for each question, you may use any of the accessible methods that are listed in classes defined in that question. Writing significant amounts of code that can be replaced by a call to one of these methods will not receive full credit.\n",
    "\n",
    "Consider a guessing game in which a player tries to guess a hidden word. The hidden word contains only capital letters and has a length known to the player. A guess contains only capital letters and has the same length as the hidden word.\n",
    "\n",
    "After a guess is made, the player is given a hint that is based on a comparison between the hidden word and the guess. Each position in the hint contains a character that corresponds to the letter in the same position in the guess. The following rules determine the characters that appear in the hint.\n",
    "\n",
    "| If the letter in the guess is... | the corresponding character in the hint is |\n",
    "|----------------------------------|------------------------------------------|\n",
    "| also in the same position in the hidden word, |  the matching letter |\n",
    "| also in the hidden word, but in a different position, |  '+' |\n",
    "| not in the hidden word,  |  '*' |\n",
    "\n",
    "The HiddenWord class will be used to represent the hidden word in the game. The hidden word is passed to the constructor. The class contains a method, getHint, that takes a guess and produces a hint.\n",
    "\n",
    "For example, suppose the variable puzzle is declared as follows.\n",
    "\n",
    "\n",
    "\n",
    "HiddenWord puzzle = new HiddenWord(\"HARPS\");\n",
    "\n",
    "\n",
    "The following table shows several guesses and the hints that would be produced.\n",
    "\n",
    "| Call to getHint   | String returned |\n",
    "|-------------------|-----------------|\n",
    "| puzzle.getHint(\"AAAAA\") \t| \"+****\"         |\n",
    "| puzzle.getHint(\"HELLO\") \t| \"*+***\"         |\n",
    "| puzzle.getHint(\"HEART\") \t| \"H****\"         |\n",
    "| puzzle.getHint(\"HARMS\") \t| \"HAR*S\"         |\n",
    "| puzzle.getHint(\"HARPS\") \t|\"HARPS\"          |\n",
    "\n",
    "Write the complete HiddenWord class, including any necessary instance variables, its constructor, and the method, getHint, described above. You may assume that the length of the guess is the same as the length of the hidden word."
   ]
  },
  {
   "cell_type": "code",
   "execution_count": null,
   "metadata": {
    "vscode": {
     "languageId": "java"
    }
   },
   "outputs": [],
   "source": []
  },
  {
   "cell_type": "markdown",
   "metadata": {},
   "source": [
    "### Question 3\n",
    "\n",
    "\n",
    "A two-dimensional array of integers in which most elements are zero is called a sparse array. Because most elements have a value of zero, memory can be saved by storing only the non-zero values along with their row and column indexes. The following complete SparseArrayEntry class is used to represent non-zero elements in a sparse array. A SparseArrayEntry object cannot be modified after it has been constructed."
   ]
  },
  {
   "cell_type": "code",
   "execution_count": null,
   "metadata": {
    "vscode": {
     "languageId": "java"
    }
   },
   "outputs": [],
   "source": []
  },
  {
   "cell_type": "markdown",
   "metadata": {},
   "source": [
    "## Question 4\n",
    "\n",
    "(a) A number group represents a group of integers defined in some way. It could be empty, or it could contain one or more integers.\n",
    "\n",
    "Write an interface named NumberGroup that represents a group of integers. The interface should have a single contains method that determines if a given integer is in the group. For example, if group1 is of type NumberGroup, and it contains only the two numbers -5 and 3, then group1.contains(-5) would return true, and group1.contains(2) would return false.\n",
    "Write the complete NumberGroup interface. It must have exactly one method.\n",
    "\n",
    "\n",
    " \n",
    "\n",
    "(b) A range represents a number group that contains all (and only) the integers between a minimum value and a maximum value, inclusive.\n",
    "Write the Range class, which is a NumberGroup. The Range class represents the group of int values that range from a given minimum value up through a given maximum value, inclusive. For example,the declaration\n",
    "\n",
    "NumberGroup range1 = new Range(-3, 2);\n",
    "\n",
    "\n",
    " \n",
    "\n",
    "represents the group of integer values -3, -2, -1, 0, 1, 2.\n",
    "\n",
    "Write the complete Range class. Include all necessary instance variables and methods as well as a constructor that takes two int parameters. The first parameter represents the minimum value, and the second parameter represents the maximum value of the range. You may assume that the minimum is less than or equal to the maximum.\n",
    "\n",
    " \n",
    "\n",
    "(c) The MultipleGroups class (not shown) represents a collection of NumberGroup objects and isa NumberGroup. The MultipleGroups class stores the number groups in the instance variable groupList (shown below), which is initialized in the constructor.\n",
    "\n",
    "private List<NumberGroup> groupList;\n",
    "\n",
    "Write the MultipleGroups method contains. The method takes an integer and returns true if and only if the integer is contained in one or more of the number groups in groupList.\n",
    "\n",
    "For example, suppose multiple1 has been declared as an instance of MultipleGroups and consists of the three ranges created by the calls new Range(5, 8), new Range(10, 12), and new Range(1, 6). The following table shows the results of several calls to contains."
   ]
  },
  {
   "cell_type": "code",
   "execution_count": null,
   "metadata": {
    "vscode": {
     "languageId": "java"
    }
   },
   "outputs": [],
   "source": []
  },
  {
   "cell_type": "markdown",
   "metadata": {},
   "source": [
    "# Putting it together\n",
    "\n",
    "I did not really know how to put them together into one seamless project but I wanted to practice making a full application in Java so I made this app to interact with all the different classes by using JPanel:\n",
    "\n",
    "[See here](https://github.com/BobTheFarmer/Colin-Blog3/issues/17)"
   ]
  },
  {
   "cell_type": "markdown",
   "metadata": {},
   "source": [
    "```\n",
    "package gameplatform;\n",
    "\n",
    "import javax.swing.*;\n",
    "import java.awt.*;\n",
    "import java.awt.event.ActionEvent;\n",
    "import java.awt.event.ActionListener;\n",
    "import java.util.List;\n",
    "\n",
    "public class Game {\n",
    "    private JFrame frame;\n",
    "    private JPanel panel;\n",
    "    private JLabel label;\n",
    "    private HiddenWord hiddenWord;\n",
    "    private DiverseArray diverseArray;\n",
    "    private MultipleGroups multipleGroups;\n",
    "    private SparseArray sparseArray;\n",
    "    private Range range;\n",
    "\n",
    "    public Game() {\n",
    "        // Initialize the game components\n",
    "        hiddenWord = new HiddenWord(\"1234\");\n",
    "        diverseArray = new DiverseArray();\n",
    "        multipleGroups = new MultipleGroups();\n",
    "        sparseArray = new SparseArray(10, 10);\n",
    "        range = new Range(1, 10);\n",
    "\n",
    "        // Add a NumberGroup to the MultipleGroups\n",
    "        multipleGroups.addNumberGroup(range);\n",
    "\n",
    "        // Initialize the UI components\n",
    "        frame = new JFrame(\"Demo\");\n",
    "        panel = new JPanel();\n",
    "        panel.setLayout(new BorderLayout());\n",
    "        label = new JLabel(\"Demo\");\n",
    "\n",
    "        // Add a button to demonstrate the HiddenWord class\n",
    "        JButton hiddenWordButton = new JButton(\"Guess Hidden Word\");\n",
    "        hiddenWordButton.addActionListener(new ActionListener() {\n",
    "            @Override\n",
    "            public void actionPerformed(ActionEvent e) {\n",
    "                String guess = JOptionPane.showInputDialog(frame, \"Enter your guess:\");\n",
    "                String hint = hiddenWord.getHint(guess);\n",
    "                label.setText(\"Hint: \" + hint);\n",
    "                sparseArray.addEntry(0, 0, Integer.parseInt(guess));\n",
    "            }\n",
    "        });\n",
    "\n",
    "        // Add a button to demonstrate the DiverseArray class\n",
    "        JButton diverseArrayButton = new JButton(\"Check Diverse Array\");\n",
    "        diverseArrayButton.addActionListener(new ActionListener() {\n",
    "            @Override\n",
    "            public void actionPerformed(ActionEvent e) {\n",
    "                int[][] arr2D = {{1, 2, 3}, {4, 5, 6}, {7, 8, 9}};\n",
    "                boolean isDiverse = diverseArray.isDiverse(arr2D);\n",
    "                label.setText(\"Is the array diverse? \" + isDiverse);\n",
    "            }\n",
    "        });\n",
    "\n",
    "        // Add a button to demonstrate the MultipleGroups class\n",
    "        JButton multipleGroupsButton = new JButton(\"Check Multiple Groups\");\n",
    "        multipleGroupsButton.addActionListener(new ActionListener() {\n",
    "            @Override\n",
    "            public void actionPerformed(ActionEvent e) {\n",
    "                int num = Integer.parseInt(JOptionPane.showInputDialog(frame, \"Enter a number:\"));\n",
    "                boolean contains = multipleGroups.contains(num);\n",
    "                label.setText(\"Does the group contain the number? \" + contains);\n",
    "            }\n",
    "        });\n",
    "\n",
    "        // Add a button to demonstrate the SparseArray class\n",
    "        JButton sparseArrayButton = new JButton(\"Show Sparse Array Entries\");\n",
    "        sparseArray.addEntry(0, 0, 0);\n",
    "        sparseArrayButton.addActionListener(new ActionListener() {\n",
    "            @Override\n",
    "            public void actionPerformed(ActionEvent e) {\n",
    "                List<SparseArrayEntry> entries = sparseArray.getEntries();\n",
    "                StringBuilder sb = new StringBuilder(\"<html>\");\n",
    "                for (SparseArrayEntry entry : entries) {\n",
    "                    sb.append(\"Row: \").append(entry.getRow()).append(\", Col: \").append(entry.getCol()).append(\", Value: \").append(entry.getValue()).append(\"<br>\");\n",
    "                }\n",
    "                sb.append(\"</html>\");\n",
    "                label.setText(sb.toString());\n",
    "            }\n",
    "        });\n",
    "\n",
    "        // Add the components to the panel\n",
    "        panel.add(label, BorderLayout.NORTH);\n",
    "        panel.add(hiddenWordButton, BorderLayout.WEST);\n",
    "        panel.add(diverseArrayButton, BorderLayout.CENTER);\n",
    "        panel.add(multipleGroupsButton, BorderLayout.EAST);\n",
    "        panel.add(sparseArrayButton, BorderLayout.SOUTH);\n",
    "\n",
    "        // Add the panel to the frame\n",
    "        frame.add(panel);\n",
    "\n",
    "        // Set the frame properties\n",
    "        frame.setDefaultCloseOperation(JFrame.EXIT_ON_CLOSE);\n",
    "        frame.setSize(500, 500);\n",
    "        frame.setVisible(true);\n",
    "    }\n",
    "\n",
    "    public static void main(String[] args) {\n",
    "        new Game();\n",
    "    }\n",
    "}\n",
    "```"
   ]
  }
 ],
 "metadata": {
  "kernelspec": {
   "display_name": "Java",
   "language": "java",
   "name": "java"
  },
  "language_info": {
   "codemirror_mode": "java",
   "file_extension": ".jshell",
   "mimetype": "text/x-java-source",
   "name": "Java",
   "pygments_lexer": "java",
   "version": "20.0.2+9-78"
  }
 },
 "nbformat": 4,
 "nbformat_minor": 2
}
