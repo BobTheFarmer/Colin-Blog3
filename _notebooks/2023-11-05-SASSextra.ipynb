{
 "cells": [
  {
   "cell_type": "markdown",
   "metadata": {},
   "source": [
    "---\n",
    "comments: true\n",
    "layout: post\n",
    "title: Extra SASS to css converter\n",
    "courses: {'csa': {'week': 17}}\n",
    "type: hacks\n",
    "---"
   ]
  },
  {
   "cell_type": "markdown",
   "metadata": {},
   "source": [
    "> Extra sass to css converter. You may need to copy the code into an html file to use it."
   ]
  },
  {
   "cell_type": "code",
   "execution_count": 3,
   "metadata": {
    "vscode": {
     "languageId": "html"
    }
   },
   "outputs": [
    {
     "data": {
      "text/html": [
       "<html>\n",
       "<head>\n",
       "    <title>SASS to CSS Converter</title>\n",
       "    <script src=\"https://cdnjs.cloudflare.com/ajax/libs/sass.js/0.11.1/sass.sync.js\"></script>\n",
       "    <style>\n",
       "        body {\n",
       "            font-family: Arial, sans-serif;\n",
       "            padding: 20px;\n",
       "            background-color: #f0f0f0;\n",
       "        }\n",
       "        textarea {\n",
       "            width: 100%;\n",
       "            height: 200px;\n",
       "            margin-bottom: 20px;\n",
       "            padding: 10px;\n",
       "            font-size: 16px;\n",
       "        }\n",
       "        button {\n",
       "            padding: 10px 20px;\n",
       "            font-size: 16px;\n",
       "            background-color: #007BFF;\n",
       "            color: white;\n",
       "            border: none;\n",
       "            border-radius: 5px;\n",
       "            cursor: pointer;\n",
       "        }\n",
       "        button:hover {\n",
       "            background-color: #0056b3;\n",
       "        }\n",
       "        #error {\n",
       "            color: red;\n",
       "        }\n",
       "    </style>\n",
       "</head>\n",
       "<body>\n",
       "    <textarea id=\"input\" placeholder=\"Enter your SASS here\"></textarea><br>\n",
       "    <button onclick=\"convert()\">Convert</button><br>\n",
       "    <textarea id=\"output\" placeholder=\"Your CSS will appear here\"></textarea>\n",
       "    <p id=\"error\"></p>\n",
       "\n",
       "    <script>\n",
       "        function convert() {\n",
       "            var input = document.getElementById('input').value;\n",
       "            Sass.compile(input, function(result) {\n",
       "                if (result.status === 0) { // Success\n",
       "                    document.getElementById('output').value = result.text;\n",
       "                    document.getElementById('error').textContent = '';\n",
       "                } else { // Error\n",
       "                    document.getElementById('output').value = '';\n",
       "                    document.getElementById('error').textContent = 'Error: ' + result.message;\n",
       "                }\n",
       "            });\n",
       "        }\n",
       "    </script>\n",
       "</body>\n",
       "</html>\n"
      ],
      "text/plain": [
       "<IPython.core.display.HTML object>"
      ]
     },
     "metadata": {},
     "output_type": "display_data"
    }
   ],
   "source": [
    "%%html\n",
    "<html>\n",
    "<head>\n",
    "    <title>SASS to CSS Converter</title>\n",
    "    <script src=\"https://cdnjs.cloudflare.com/ajax/libs/sass.js/0.11.1/sass.sync.js\"></script>\n",
    "    <style>\n",
    "        body {\n",
    "            font-family: Arial, sans-serif;\n",
    "            padding: 20px;\n",
    "            background-color: #f0f0f0;\n",
    "        }\n",
    "        textarea {\n",
    "            width: 100%;\n",
    "            height: 200px;\n",
    "            margin-bottom: 20px;\n",
    "            padding: 10px;\n",
    "            font-size: 16px;\n",
    "        }\n",
    "        button {\n",
    "            padding: 10px 20px;\n",
    "            font-size: 16px;\n",
    "            background-color: #007BFF;\n",
    "            color: white;\n",
    "            border: none;\n",
    "            border-radius: 5px;\n",
    "            cursor: pointer;\n",
    "        }\n",
    "        button:hover {\n",
    "            background-color: #0056b3;\n",
    "        }\n",
    "        #error {\n",
    "            color: red;\n",
    "        }\n",
    "    </style>\n",
    "</head>\n",
    "<body>\n",
    "    <textarea id=\"input\" placeholder=\"Enter your SASS here\"></textarea><br>\n",
    "    <button onclick=\"convert()\">Convert</button><br>\n",
    "    <textarea id=\"output\" placeholder=\"Your CSS will appear here\"></textarea>\n",
    "    <p id=\"error\"></p>\n",
    "\n",
    "    <script>\n",
    "        function convert() {\n",
    "            var input = document.getElementById('input').value;\n",
    "            Sass.compile(input, function(result) {\n",
    "                if (result.status === 0) { // Success\n",
    "                    document.getElementById('output').value = result.text;\n",
    "                    document.getElementById('error').textContent = '';\n",
    "                } else { // Error\n",
    "                    document.getElementById('output').value = '';\n",
    "                    document.getElementById('error').textContent = 'Error: ' + result.message;\n",
    "                }\n",
    "            });\n",
    "        }\n",
    "    </script>\n",
    "</body>\n",
    "</html>\n"
   ]
  }
 ],
 "metadata": {
  "kernelspec": {
   "display_name": "Python 3",
   "language": "python",
   "name": "python3"
  },
  "language_info": {
   "codemirror_mode": {
    "name": "ipython",
    "version": 3
   },
   "file_extension": ".py",
   "mimetype": "text/x-python",
   "name": "python",
   "nbconvert_exporter": "python",
   "pygments_lexer": "ipython3",
   "version": "3.11.3"
  }
 },
 "nbformat": 4,
 "nbformat_minor": 2
}
