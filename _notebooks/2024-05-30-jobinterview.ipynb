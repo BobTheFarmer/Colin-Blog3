{
 "cells": [
  {
   "cell_type": "markdown",
   "metadata": {},
   "source": [
    "---\n",
    "toc: true\n",
    "comments: false\n",
    "layout: post\n",
    "title: Projects Blog\n",
    "description: A overview of my favorite projects from computer science and my contribution\n",
    "type: hacks\n",
    "courses: { csa: {week: 36} }\n",
    "---"
   ]
  },
  {
   "cell_type": "markdown",
   "metadata": {},
   "source": [
    "# [Jobify](https://men-in-brown.github.io/Jobify/home.html)\n",
    "\n",
    "> Jobify was our capstone project in the computer science program at Del Norte High School. In a team of 10, we collaborated to deliver a cohesive product which helps students with all their needs in one place.\n",
    "\n",
    "I focused on the holistic development of assignments, issues, and their connection to many other features such as grades and accounts. At Jobify, I practiced complexity in my APIs which required many endpoints and unique data structures. For assignments, I required 3 models all containing additional HashMap fields. The backend was accomplished in Spring. To deliver a comprehensive experience, I also focused on connecting my work with my collages and on building an easy-to-use frontend.\n",
    "\n",
    "- [Video](https://www.youtube.com/watch?v=g6gG5ftZbSM)"
   ]
  },
  {
   "cell_type": "markdown",
   "metadata": {},
   "source": [
    "# [VACTQ Racers](https://bobthefarmer.github.io/VACTQ-Typing-Game/Ga.html)\n",
    "\n",
    "> For my first project in Spring Boot and Java, my team and I created a typing game for user's to practice writing code fast. The key focus here was a complex connection between the front and backend to allow for keeping track of players locations.\n",
    "\n",
    "I focused on the car location system. This system on the backend was responsible for managing the location of all the cars, and for assigning new users a car when they join a race. I also created the code behind moving the cars, which updated the cars location based on a ticking system and posted to my api when the user typed a line of code.\n",
    "\n",
    "- [Technical Overview](https://github.com/BobTheFarmer/VACTQ-Typing-Game/issues/10)"
   ]
  },
  {
   "cell_type": "markdown",
   "metadata": {},
   "source": [
    "# [Sassy Swifties](https://lwu1822.github.io/SassySwiftiesFrontend/pages/messageboard/messageboard)\n",
    "\n",
    "> For my final project in CSP, we made a Taylor Swift fan club page. Here, I focused on the message board and storefront.\n",
    "\n",
    "I worked a lot with JQuery here. Dynamic pages were a big focus, both my features being fully dynamic. The messageboard had sorting of posts by likes, which added more in terms of this too. The NFT page is fully built by the data in the API. I think this was a valuable stepping stone in my progression especially with dynamic frontends.\n",
    "\n",
    "- [Review](https://github.com/lwu1822/SassySwiftiesFrontend/issues/7)"
   ]
  },
  {
   "cell_type": "markdown",
   "metadata": {},
   "source": [
    "# [RECS](https://raunak2007.github.io/RECS-repo/famousdestinations.html)\n",
    "\n",
    "> RECS was my personal favorite project I completed in APCSP. My team and I worked to create a website to help users with all there traveling needs.\n",
    "\n",
    "My page focuses on allowing users to post about there favorite destinations. Everytime the page is reset the post (and like count) are read from the API. Next, the frontend uses JavaScript and JQuery to create each post in HTML. You may click the like/dislike buttons to change the likes and the flag to remove a post from the database. The database was made with Flask\n",
    "\n",
    "- [Video](https://github.com/BobTheFarmer/Colin-Blog2/issues/27)"
   ]
  }
 ],
 "metadata": {
  "language_info": {
   "name": "python"
  }
 },
 "nbformat": 4,
 "nbformat_minor": 2
}
