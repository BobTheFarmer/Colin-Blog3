{
 "cells": [
  {
   "cell_type": "markdown",
   "metadata": {},
   "source": [
    "---\n",
    "toc: true\n",
    "comments: true\n",
    "layout: post\n",
    "title: Java Game\n",
    "courses: { csp: {week: 0} }\n",
    "type: hacks\n",
    "---"
   ]
  },
  {
   "cell_type": "code",
   "execution_count": 17,
   "metadata": {
    "vscode": {
     "languageId": "java"
    }
   },
   "outputs": [],
   "source": [
    "import javax.swing.JFrame;\n",
    "\n",
    "public class MyFrame extends JFrame {\n",
    "    static int[] gradeCutoffs = {90, 80, 70, 60};\n",
    "\n",
    "    public static void main(String[] args) {\n",
    "        Student test = new Student(\"John\", \"Doe\", 1, 95.0);\n",
    "        \n",
    "    }\n",
    "\n",
    "    public static class UI {\n",
    "        \n",
    "    }\n",
    "\n",
    "    //Create Student class\n",
    "    public static class Student {\n",
    "        private String first;\n",
    "        private String last;\n",
    "        private int period;\n",
    "        private double percentGrade;\n",
    "        private char letterGrade;\n",
    "\n",
    "        public Student(String first, String last, int period, double percentGrade) {\n",
    "            this.first = first;\n",
    "            this.last = last;\n",
    "            this.period = period;\n",
    "            this.percentGrade = percentGrade;\n",
    "            this.letterGrade = calculateLetterGrade(this.percentGrade);\n",
    "        }\n",
    "\n",
    "        //Setters + Getters\n",
    "        public String getFirst() {\n",
    "            return first;\n",
    "        }\n",
    "\n",
    "        public void setFirst(String first) {\n",
    "            this.first = first;\n",
    "        }\n",
    "\n",
    "        public String getLast() {\n",
    "            return last;\n",
    "        }\n",
    "\n",
    "        public void setLast(String last) {\n",
    "            this.last = last;\n",
    "        }\n",
    "\n",
    "        public int getPeriod() {\n",
    "            return period;\n",
    "        }\n",
    "\n",
    "        public void setPeriod(int period) {\n",
    "            this.period = period;\n",
    "        }\n",
    "\n",
    "        public double getPercentGrade() {\n",
    "            return percentGrade;\n",
    "        }\n",
    "\n",
    "        public void setPercentGrade(double percentGrade) {\n",
    "            this.percentGrade = percentGrade;\n",
    "            this.letterGrade = calculateLetterGrade(this.percentGrade);\n",
    "        }\n",
    "\n",
    "        public char getLetterGrade() {\n",
    "            return letterGrade;\n",
    "        }\n",
    "    }\n",
    "\n",
    "    public static char calculateLetterGrade(double percentGrade) {\n",
    "        if (percentGrade >= gradeCutoffs[0]) {\n",
    "            return 'A';\n",
    "        } else if (percentGrade >= gradeCutoffs[1]) {\n",
    "            return 'B';\n",
    "        } else if (percentGrade >= gradeCutoffs[2]) {\n",
    "            return 'C';\n",
    "        } else if (percentGrade >= gradeCutoffs[3]) {\n",
    "            return 'D';\n",
    "        } else {\n",
    "            return 'F';\n",
    "        }\n",
    "    }\n",
    "}\n"
   ]
  },
  {
   "cell_type": "code",
   "execution_count": null,
   "metadata": {
    "vscode": {
     "languageId": "java"
    }
   },
   "outputs": [],
   "source": []
  }
 ],
 "metadata": {
  "kernelspec": {
   "display_name": "Java",
   "language": "java",
   "name": "java"
  },
  "language_info": {
   "codemirror_mode": "java",
   "file_extension": ".jshell",
   "mimetype": "text/x-java-source",
   "name": "Java",
   "pygments_lexer": "java",
   "version": "20.0.2+9-78"
  },
  "orig_nbformat": 4
 },
 "nbformat": 4,
 "nbformat_minor": 2
}
